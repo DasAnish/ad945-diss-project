{
  "nbformat": 4,
  "nbformat_minor": 0,
  "metadata": {
    "colab": {
      "name": "Evaluation.ipynb",
      "provenance": []
    },
    "kernelspec": {
      "name": "python3",
      "display_name": "Python 3"
    },
    "language_info": {
      "name": "python"
    }
  },
  "cells": [
    {
      "cell_type": "code",
      "metadata": {
        "colab": {
          "base_uri": "https://localhost:8080/"
        },
        "id": "w_O57r4Yu_3_",
        "outputId": "a1be2120-51f4-4b7f-ba0b-9dbbe6095f0d"
      },
      "source": [
        "from google.colab import drive\n",
        "drive.mount('/content/drive')\n",
        "% cd /content/drive/MyDrive/Dissertation/ad945-diss-project/"
      ],
      "execution_count": 14,
      "outputs": [
        {
          "output_type": "stream",
          "text": [
            "Drive already mounted at /content/drive; to attempt to forcibly remount, call drive.mount(\"/content/drive\", force_remount=True).\n",
            "/content/drive/MyDrive/Dissertation/ad945-diss-project\n"
          ],
          "name": "stdout"
        }
      ]
    },
    {
      "cell_type": "code",
      "metadata": {
        "colab": {
          "base_uri": "https://localhost:8080/"
        },
        "id": "png_pS7TvGsU",
        "outputId": "5793065e-f09b-4b00-ee99-7675085c9143"
      },
      "source": [
        "# ! git clone https://github.com/DasAnish/ad945-diss-project.git"
      ],
      "execution_count": 2,
      "outputs": [
        {
          "output_type": "stream",
          "text": [
            "Cloning into 'ad945-diss-project'...\n",
            "remote: Enumerating objects: 54, done.\u001b[K\n",
            "remote: Counting objects: 100% (54/54), done.\u001b[K\n",
            "remote: Compressing objects: 100% (43/43), done.\u001b[K\n",
            "remote: Total 175 (delta 18), reused 34 (delta 11), pack-reused 121\u001b[K\n",
            "Receiving objects: 100% (175/175), 71.31 MiB | 4.42 MiB/s, done.\n",
            "Resolving deltas: 100% (73/73), done.\n"
          ],
          "name": "stdout"
        }
      ]
    },
    {
      "cell_type": "code",
      "metadata": {
        "colab": {
          "base_uri": "https://localhost:8080/"
        },
        "id": "yjW5bXdDv0xQ",
        "outputId": "e25d96ae-f045-4e52-efac-489cf22f7c9e"
      },
      "source": [
        "! git fetch\n",
        "! git pull"
      ],
      "execution_count": 20,
      "outputs": [
        {
          "output_type": "stream",
          "text": [
            "remote: Enumerating objects: 14, done.\u001b[K\n",
            "remote: Counting objects:   7% (1/14)\u001b[K\rremote: Counting objects:  14% (2/14)\u001b[K\rremote: Counting objects:  21% (3/14)\u001b[K\rremote: Counting objects:  28% (4/14)\u001b[K\rremote: Counting objects:  35% (5/14)\u001b[K\rremote: Counting objects:  42% (6/14)\u001b[K\rremote: Counting objects:  50% (7/14)\u001b[K\rremote: Counting objects:  57% (8/14)\u001b[K\rremote: Counting objects:  64% (9/14)\u001b[K\rremote: Counting objects:  71% (10/14)\u001b[K\rremote: Counting objects:  78% (11/14)\u001b[K\rremote: Counting objects:  85% (12/14)\u001b[K\rremote: Counting objects:  92% (13/14)\u001b[K\rremote: Counting objects: 100% (14/14)\u001b[K\rremote: Counting objects: 100% (14/14), done.\u001b[K\n",
            "remote: Compressing objects: 100% (9/9), done.\u001b[K\n",
            "remote: Total 14 (delta 5), reused 14 (delta 5), pack-reused 0\u001b[K\n",
            "Unpacking objects: 100% (14/14), done.\n",
            "From https://github.com/DasAnish/ad945-diss-project\n",
            "   1a2f15c..2f4258e  main       -> origin/main\n",
            "Updating 1a2f15c..2f4258e\n",
            "Fast-forward\n",
            " .../figs/fig4frompaper-trainingtips.PNG                | Bin \u001b[31m0\u001b[m -> \u001b[32m86363\u001b[m bytes\n",
            " .../figs/length-distribution-across-languages.png      | Bin \u001b[31m0\u001b[m -> \u001b[32m46069\u001b[m bytes\n",
            " dissertation-tex-files/figs/length-vs-vocab-size.png   | Bin \u001b[31m0\u001b[m -> \u001b[32m63389\u001b[m bytes\n",
            " dissertation-tex-files/figs/multihead-attention.PNG    | Bin \u001b[31m0\u001b[m -> \u001b[32m126958\u001b[m bytes\n",
            " dissertation-tex-files/figs/self-attentoin-copied.PNG  | Bin \u001b[31m0\u001b[m -> \u001b[32m27852\u001b[m bytes\n",
            " .../figs/transformer-architecture.PNG                  | Bin \u001b[31m0\u001b[m -> \u001b[32m114500\u001b[m bytes\n",
            " src/transformer_layers.py                              |   4 \u001b[32m++\u001b[m\u001b[31m--\u001b[m\n",
            " 7 files changed, 2 insertions(+), 2 deletions(-)\n",
            " create mode 100644 dissertation-tex-files/figs/fig4frompaper-trainingtips.PNG\n",
            " create mode 100644 dissertation-tex-files/figs/length-distribution-across-languages.png\n",
            " create mode 100644 dissertation-tex-files/figs/length-vs-vocab-size.png\n",
            " create mode 100644 dissertation-tex-files/figs/multihead-attention.PNG\n",
            " create mode 100644 dissertation-tex-files/figs/self-attentoin-copied.PNG\n",
            " create mode 100644 dissertation-tex-files/figs/transformer-architecture.PNG\n"
          ],
          "name": "stdout"
        }
      ]
    },
    {
      "cell_type": "code",
      "metadata": {
        "colab": {
          "base_uri": "https://localhost:8080/"
        },
        "id": "rgdZ0qlkv20d",
        "outputId": "1e94bd11-7b37-4826-bfe4-7dffdb9972aa"
      },
      "source": [
        "! pip install opennmt-py==1.2.0\n",
        "! pip install sacrebleu\n",
        "! pip install sentencepiece\n",
        "! pip install langdetect\n",
        "! pip install py-rouge"
      ],
      "execution_count": 3,
      "outputs": [
        {
          "output_type": "stream",
          "text": [
            "Collecting opennmt-py==1.2.0\n",
            "\u001b[?25l  Downloading https://files.pythonhosted.org/packages/9f/20/40f8b722aa0e35e259c144b6ec2d684f1aea7de869cf586c67cfd6fe1c55/OpenNMT_py-1.2.0-py3-none-any.whl (195kB)\n",
            "\r\u001b[K     |█▊                              | 10kB 16.2MB/s eta 0:00:01\r\u001b[K     |███▍                            | 20kB 16.1MB/s eta 0:00:01\r\u001b[K     |█████                           | 30kB 9.3MB/s eta 0:00:01\r\u001b[K     |██████▊                         | 40kB 5.8MB/s eta 0:00:01\r\u001b[K     |████████▍                       | 51kB 7.0MB/s eta 0:00:01\r\u001b[K     |██████████                      | 61kB 7.8MB/s eta 0:00:01\r\u001b[K     |███████████▊                    | 71kB 8.0MB/s eta 0:00:01\r\u001b[K     |█████████████▍                  | 81kB 8.4MB/s eta 0:00:01\r\u001b[K     |███████████████                 | 92kB 8.5MB/s eta 0:00:01\r\u001b[K     |████████████████▉               | 102kB 7.1MB/s eta 0:00:01\r\u001b[K     |██████████████████▌             | 112kB 7.1MB/s eta 0:00:01\r\u001b[K     |████████████████████▏           | 122kB 7.1MB/s eta 0:00:01\r\u001b[K     |█████████████████████▉          | 133kB 7.1MB/s eta 0:00:01\r\u001b[K     |███████████████████████▌        | 143kB 7.1MB/s eta 0:00:01\r\u001b[K     |█████████████████████████▏      | 153kB 7.1MB/s eta 0:00:01\r\u001b[K     |██████████████████████████▉     | 163kB 7.1MB/s eta 0:00:01\r\u001b[K     |████████████████████████████▌   | 174kB 7.1MB/s eta 0:00:01\r\u001b[K     |██████████████████████████████▏ | 184kB 7.1MB/s eta 0:00:01\r\u001b[K     |████████████████████████████████| 194kB 7.1MB/s eta 0:00:01\r\u001b[K     |████████████████████████████████| 204kB 7.1MB/s \n",
            "\u001b[?25hRequirement already satisfied: tqdm in /usr/local/lib/python3.7/dist-packages (from opennmt-py==1.2.0) (4.41.1)\n",
            "Requirement already satisfied: pyyaml in /usr/local/lib/python3.7/dist-packages (from opennmt-py==1.2.0) (3.13)\n",
            "Collecting waitress\n",
            "\u001b[?25l  Downloading https://files.pythonhosted.org/packages/a8/cf/a9e9590023684dbf4e7861e261b0cfd6498a62396c748e661577ca720a29/waitress-2.0.0-py3-none-any.whl (56kB)\n",
            "\u001b[K     |████████████████████████████████| 61kB 6.7MB/s \n",
            "\u001b[?25hCollecting configargparse\n",
            "\u001b[?25l  Downloading https://files.pythonhosted.org/packages/5d/c3/17846950db4e11cc2e71b36e5f8b236a7ab2f742f65597f3daf94f0b84b7/ConfigArgParse-1.4.tar.gz (45kB)\n",
            "\u001b[K     |████████████████████████████████| 51kB 4.6MB/s \n",
            "\u001b[?25hRequirement already satisfied: tensorboard>=1.14 in /usr/local/lib/python3.7/dist-packages (from opennmt-py==1.2.0) (2.4.1)\n",
            "Requirement already satisfied: flask in /usr/local/lib/python3.7/dist-packages (from opennmt-py==1.2.0) (1.1.2)\n",
            "Requirement already satisfied: future in /usr/local/lib/python3.7/dist-packages (from opennmt-py==1.2.0) (0.16.0)\n",
            "Collecting pyonmttok==1.*; platform_system == \"Linux\"\n",
            "\u001b[?25l  Downloading https://files.pythonhosted.org/packages/3f/63/17c6ac0d8a0cfa5ff7257e52edb6759d12dc266392f6c97f5c65c0c7238c/pyonmttok-1.25.0-cp37-cp37m-manylinux1_x86_64.whl (2.6MB)\n",
            "\u001b[K     |████████████████████████████████| 2.6MB 11.6MB/s \n",
            "\u001b[?25hRequirement already satisfied: six in /usr/local/lib/python3.7/dist-packages (from opennmt-py==1.2.0) (1.15.0)\n",
            "Requirement already satisfied: torch>=1.6.0 in /usr/local/lib/python3.7/dist-packages (from opennmt-py==1.2.0) (1.8.1+cu101)\n",
            "Collecting torchtext==0.4.0\n",
            "\u001b[?25l  Downloading https://files.pythonhosted.org/packages/43/94/929d6bd236a4fb5c435982a7eb9730b78dcd8659acf328fd2ef9de85f483/torchtext-0.4.0-py3-none-any.whl (53kB)\n",
            "\u001b[K     |████████████████████████████████| 61kB 7.8MB/s \n",
            "\u001b[?25hRequirement already satisfied: google-auth<2,>=1.6.3 in /usr/local/lib/python3.7/dist-packages (from tensorboard>=1.14->opennmt-py==1.2.0) (1.28.1)\n",
            "Requirement already satisfied: markdown>=2.6.8 in /usr/local/lib/python3.7/dist-packages (from tensorboard>=1.14->opennmt-py==1.2.0) (3.3.4)\n",
            "Requirement already satisfied: grpcio>=1.24.3 in /usr/local/lib/python3.7/dist-packages (from tensorboard>=1.14->opennmt-py==1.2.0) (1.32.0)\n",
            "Requirement already satisfied: numpy>=1.12.0 in /usr/local/lib/python3.7/dist-packages (from tensorboard>=1.14->opennmt-py==1.2.0) (1.19.5)\n",
            "Requirement already satisfied: protobuf>=3.6.0 in /usr/local/lib/python3.7/dist-packages (from tensorboard>=1.14->opennmt-py==1.2.0) (3.12.4)\n",
            "Requirement already satisfied: setuptools>=41.0.0 in /usr/local/lib/python3.7/dist-packages (from tensorboard>=1.14->opennmt-py==1.2.0) (54.2.0)\n",
            "Requirement already satisfied: wheel>=0.26; python_version >= \"3\" in /usr/local/lib/python3.7/dist-packages (from tensorboard>=1.14->opennmt-py==1.2.0) (0.36.2)\n",
            "Requirement already satisfied: werkzeug>=0.11.15 in /usr/local/lib/python3.7/dist-packages (from tensorboard>=1.14->opennmt-py==1.2.0) (1.0.1)\n",
            "Requirement already satisfied: google-auth-oauthlib<0.5,>=0.4.1 in /usr/local/lib/python3.7/dist-packages (from tensorboard>=1.14->opennmt-py==1.2.0) (0.4.4)\n",
            "Requirement already satisfied: requests<3,>=2.21.0 in /usr/local/lib/python3.7/dist-packages (from tensorboard>=1.14->opennmt-py==1.2.0) (2.23.0)\n",
            "Requirement already satisfied: absl-py>=0.4 in /usr/local/lib/python3.7/dist-packages (from tensorboard>=1.14->opennmt-py==1.2.0) (0.12.0)\n",
            "Requirement already satisfied: tensorboard-plugin-wit>=1.6.0 in /usr/local/lib/python3.7/dist-packages (from tensorboard>=1.14->opennmt-py==1.2.0) (1.8.0)\n",
            "Requirement already satisfied: itsdangerous>=0.24 in /usr/local/lib/python3.7/dist-packages (from flask->opennmt-py==1.2.0) (1.1.0)\n",
            "Requirement already satisfied: Jinja2>=2.10.1 in /usr/local/lib/python3.7/dist-packages (from flask->opennmt-py==1.2.0) (2.11.3)\n",
            "Requirement already satisfied: click>=5.1 in /usr/local/lib/python3.7/dist-packages (from flask->opennmt-py==1.2.0) (7.1.2)\n",
            "Requirement already satisfied: typing-extensions in /usr/local/lib/python3.7/dist-packages (from torch>=1.6.0->opennmt-py==1.2.0) (3.7.4.3)\n",
            "Requirement already satisfied: cachetools<5.0,>=2.0.0 in /usr/local/lib/python3.7/dist-packages (from google-auth<2,>=1.6.3->tensorboard>=1.14->opennmt-py==1.2.0) (4.2.1)\n",
            "Requirement already satisfied: rsa<5,>=3.1.4; python_version >= \"3.6\" in /usr/local/lib/python3.7/dist-packages (from google-auth<2,>=1.6.3->tensorboard>=1.14->opennmt-py==1.2.0) (4.7.2)\n",
            "Requirement already satisfied: pyasn1-modules>=0.2.1 in /usr/local/lib/python3.7/dist-packages (from google-auth<2,>=1.6.3->tensorboard>=1.14->opennmt-py==1.2.0) (0.2.8)\n",
            "Requirement already satisfied: importlib-metadata; python_version < \"3.8\" in /usr/local/lib/python3.7/dist-packages (from markdown>=2.6.8->tensorboard>=1.14->opennmt-py==1.2.0) (3.10.0)\n",
            "Requirement already satisfied: requests-oauthlib>=0.7.0 in /usr/local/lib/python3.7/dist-packages (from google-auth-oauthlib<0.5,>=0.4.1->tensorboard>=1.14->opennmt-py==1.2.0) (1.3.0)\n",
            "Requirement already satisfied: chardet<4,>=3.0.2 in /usr/local/lib/python3.7/dist-packages (from requests<3,>=2.21.0->tensorboard>=1.14->opennmt-py==1.2.0) (3.0.4)\n",
            "Requirement already satisfied: certifi>=2017.4.17 in /usr/local/lib/python3.7/dist-packages (from requests<3,>=2.21.0->tensorboard>=1.14->opennmt-py==1.2.0) (2020.12.5)\n",
            "Requirement already satisfied: idna<3,>=2.5 in /usr/local/lib/python3.7/dist-packages (from requests<3,>=2.21.0->tensorboard>=1.14->opennmt-py==1.2.0) (2.10)\n",
            "Requirement already satisfied: urllib3!=1.25.0,!=1.25.1,<1.26,>=1.21.1 in /usr/local/lib/python3.7/dist-packages (from requests<3,>=2.21.0->tensorboard>=1.14->opennmt-py==1.2.0) (1.24.3)\n",
            "Requirement already satisfied: MarkupSafe>=0.23 in /usr/local/lib/python3.7/dist-packages (from Jinja2>=2.10.1->flask->opennmt-py==1.2.0) (1.1.1)\n",
            "Requirement already satisfied: pyasn1>=0.1.3 in /usr/local/lib/python3.7/dist-packages (from rsa<5,>=3.1.4; python_version >= \"3.6\"->google-auth<2,>=1.6.3->tensorboard>=1.14->opennmt-py==1.2.0) (0.4.8)\n",
            "Requirement already satisfied: zipp>=0.5 in /usr/local/lib/python3.7/dist-packages (from importlib-metadata; python_version < \"3.8\"->markdown>=2.6.8->tensorboard>=1.14->opennmt-py==1.2.0) (3.4.1)\n",
            "Requirement already satisfied: oauthlib>=3.0.0 in /usr/local/lib/python3.7/dist-packages (from requests-oauthlib>=0.7.0->google-auth-oauthlib<0.5,>=0.4.1->tensorboard>=1.14->opennmt-py==1.2.0) (3.1.0)\n",
            "Building wheels for collected packages: configargparse\n",
            "  Building wheel for configargparse (setup.py) ... \u001b[?25l\u001b[?25hdone\n",
            "  Created wheel for configargparse: filename=ConfigArgParse-1.4-cp37-none-any.whl size=19638 sha256=4be5ed1a4a1b79e49d58b859fb56ae1f3b9c40781c110e1c2c3123c1e62acb5f\n",
            "  Stored in directory: /root/.cache/pip/wheels/d6/61/f7/626bbd080a9f2f70015f92025e0af663c595146083f3d9aa05\n",
            "Successfully built configargparse\n",
            "Installing collected packages: waitress, configargparse, pyonmttok, torchtext, opennmt-py\n",
            "  Found existing installation: torchtext 0.9.1\n",
            "    Uninstalling torchtext-0.9.1:\n",
            "      Successfully uninstalled torchtext-0.9.1\n",
            "Successfully installed configargparse-1.4 opennmt-py-1.2.0 pyonmttok-1.25.0 torchtext-0.4.0 waitress-2.0.0\n",
            "Collecting sacrebleu\n",
            "\u001b[?25l  Downloading https://files.pythonhosted.org/packages/7e/57/0c7ca4e31a126189dab99c19951910bd081dea5bbd25f24b77107750eae7/sacrebleu-1.5.1-py3-none-any.whl (54kB)\n",
            "\u001b[K     |████████████████████████████████| 61kB 5.1MB/s \n",
            "\u001b[?25hCollecting portalocker==2.0.0\n",
            "  Downloading https://files.pythonhosted.org/packages/89/a6/3814b7107e0788040870e8825eebf214d72166adf656ba7d4bf14759a06a/portalocker-2.0.0-py2.py3-none-any.whl\n",
            "Installing collected packages: portalocker, sacrebleu\n",
            "Successfully installed portalocker-2.0.0 sacrebleu-1.5.1\n",
            "Collecting sentencepiece\n",
            "\u001b[?25l  Downloading https://files.pythonhosted.org/packages/f5/99/e0808cb947ba10f575839c43e8fafc9cc44e4a7a2c8f79c60db48220a577/sentencepiece-0.1.95-cp37-cp37m-manylinux2014_x86_64.whl (1.2MB)\n",
            "\u001b[K     |████████████████████████████████| 1.2MB 9.3MB/s \n",
            "\u001b[?25hInstalling collected packages: sentencepiece\n",
            "Successfully installed sentencepiece-0.1.95\n",
            "Collecting langdetect\n",
            "\u001b[?25l  Downloading https://files.pythonhosted.org/packages/56/a3/8407c1e62d5980188b4acc45ef3d94b933d14a2ebc9ef3505f22cf772570/langdetect-1.0.8.tar.gz (981kB)\n",
            "\u001b[K     |████████████████████████████████| 983kB 8.5MB/s \n",
            "\u001b[?25hRequirement already satisfied: six in /usr/local/lib/python3.7/dist-packages (from langdetect) (1.15.0)\n",
            "Building wheels for collected packages: langdetect\n",
            "  Building wheel for langdetect (setup.py) ... \u001b[?25l\u001b[?25hdone\n",
            "  Created wheel for langdetect: filename=langdetect-1.0.8-cp37-none-any.whl size=993193 sha256=cb09d23aa6bea1dab2091ee191b60b35e101ca1585b9a18733dada94a8a2f438\n",
            "  Stored in directory: /root/.cache/pip/wheels/8d/b3/aa/6d99de9f3841d7d3d40a60ea06e6d669e8e5012e6c8b947a57\n",
            "Successfully built langdetect\n",
            "Installing collected packages: langdetect\n",
            "Successfully installed langdetect-1.0.8\n",
            "Collecting py-rouge\n",
            "\u001b[?25l  Downloading https://files.pythonhosted.org/packages/9c/1d/0bdbaf559fb7afe32308ebc84a2028600988212d7eb7fb9f69c4e829e4a0/py_rouge-1.1-py3-none-any.whl (56kB)\n",
            "\u001b[K     |████████████████████████████████| 61kB 4.9MB/s \n",
            "\u001b[?25hInstalling collected packages: py-rouge\n",
            "Successfully installed py-rouge-1.1\n"
          ],
          "name": "stdout"
        }
      ]
    },
    {
      "cell_type": "code",
      "metadata": {
        "colab": {
          "base_uri": "https://localhost:8080/"
        },
        "id": "Vs43lOFvyYwn",
        "outputId": "95515c87-7425-4eb3-9c44-9c31aa0f42b9"
      },
      "source": [
        "import nltk\n",
        "nltk.download('punkt')"
      ],
      "execution_count": 27,
      "outputs": [
        {
          "output_type": "stream",
          "text": [
            "[nltk_data] Downloading package punkt to /root/nltk_data...\n",
            "[nltk_data]   Unzipping tokenizers/punkt.zip.\n"
          ],
          "name": "stdout"
        },
        {
          "output_type": "execute_result",
          "data": {
            "text/plain": [
              "True"
            ]
          },
          "metadata": {
            "tags": []
          },
          "execution_count": 27
        }
      ]
    },
    {
      "cell_type": "code",
      "metadata": {
        "id": "qEsN2SqVxaVH"
      },
      "source": [
        "from src.transformer_layers import Transformer\n",
        "from src.utils import *\n",
        "from src.save_load import *\n",
        "from src.text_preprocessing import create_fields\n",
        "import torch\n",
        "import torch.nn as nn\n",
        "import torch.nn.functional as F\n",
        "from math import sqrt\n",
        "Tensor = torch.Tensor\n",
        "from torch.autograd import Variable\n",
        "from typing import Optional\n",
        "import datetime\n",
        "import time\n",
        "import numpy as np\n",
        "import pickle\n",
        "import sentencepiece as spm\n",
        "from tqdm import tqdm\n",
        "from tqdm.notebook import tnrange\n",
        "import sacrebleu\n",
        "from src.opt import Opt\n",
        "from eval.evaluate import *"
      ],
      "execution_count": 25,
      "outputs": []
    },
    {
      "cell_type": "code",
      "metadata": {
        "id": "saSs9M2HxyBR"
      },
      "source": [
        "opt = Opt()"
      ],
      "execution_count": 23,
      "outputs": []
    },
    {
      "cell_type": "code",
      "metadata": {
        "id": "HBoztqdKyD5_"
      },
      "source": [
        "baseline = get_baseline_scores(opt)"
      ],
      "execution_count": 28,
      "outputs": []
    },
    {
      "cell_type": "code",
      "metadata": {
        "id": "KI9zBg0ox9aP"
      },
      "source": [
        "def print_rouge(rouge_score, space=4):\n",
        "    for r in rouge_score:\n",
        "        print(f'{\" \"*space}{r}: ', end='')\n",
        "        temp_dict = rouge_score[r]\n",
        "        # for i in temp_dict:\n",
        "        #     temp_dict[i] = '%.3f'%temp_dict[i]\n",
        "\n",
        "        # print(temp_dict)\n",
        "        print('%.3f'%temp_dict['f'])\n",
        "\n",
        "def print_latex_table(rouge_score, temp):\n",
        "    temp.append(f\"{rouge_score['rouge-1']['f']:.3f}\")\n",
        "    temp.append(f\"{rouge_score['rouge-2']['f']:.3f}\")\n",
        "    temp.append(f\"{rouge_score['rouge-l']['f']:.3f}\")\n",
        "    temp.append(f\"{rouge_score['rouge-w']['f']:.3f}\")\n",
        "    for r in rouge_score:\n",
        "        v = '%.3f'% rouge_score[r]['f']\n",
        "\n",
        "\n",
        "def pretty_print(opt):\n",
        "    scores = get_scores(opt)\n",
        "    # print(scores['bleu'])\n",
        "    bleu: sacrebleu.BLEUScore = scores['bleu']\n",
        "    print(bleu)\n",
        "    opt.temp.append(f'{bleu.score:.2f}')\n",
        "    for t in scores:\n",
        "        if t == 'bleu': continue\n",
        "        print_latex_table(scores[t], opt.temp)\n",
        "        print(t.upper())\n",
        "        print_rouge(scores[t])\n",
        "    opt.table.append(' & '.join(opt.temp))\n",
        "\n",
        "src_langs = ['de', 'es', 'fr']\n",
        "model_nums = {'de':[9, 21, 42, 81, 120, 162],\n",
        "              'es':[10, 20, 45, 135, 165, 225],\n",
        "              'fr':[6, 12, 18, 33, 48, 72]}\n",
        "epoch_size = {'de': 41.3, 'es':35.4, 'fr':18.2/2}\n",
        "model_fracs = {i:['%.2f'%(j/epoch_size[i]) for j in model_nums[i]] for i in model_nums}\n",
        "model_nums = {lang: [i*1000 for i in model_nums[lang]] for lang in model_nums}\n",
        "opt.proper_method = False\n",
        "\n",
        "\n",
        "for lang in model_nums:\n",
        "    opt.table = []\n",
        "    # print(f'{\"=\"*50}{lang}{\"=\"*50}')\n",
        "    for i, model_num in enumerate(model_nums[lang]):\n",
        "        opt.temp = [f'{model_num//2000 if lang != \"fr\" else model_num//1000},000 ({model_fracs[lang][i]})']\n",
        "        # print(, end='')\n",
        "        opt.src_lang = lang\n",
        "        opt.model_num = model_num\n",
        "        pretty_print(opt)\n",
        "        print(opt.temp)\n",
        "    print(' \\\\\\\\\\n'.join(opt.table) + \"\\\\\\\\\")"
      ],
      "execution_count": null,
      "outputs": []
    }
  ]
}