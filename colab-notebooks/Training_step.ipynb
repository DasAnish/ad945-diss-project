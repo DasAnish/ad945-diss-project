{
  "nbformat": 4,
  "nbformat_minor": 0,
  "metadata": {
    "colab": {
      "name": "Training_step.ipynb",
      "provenance": []
    },
    "kernelspec": {
      "name": "python3",
      "display_name": "Python 3"
    },
    "language_info": {
      "name": "python"
    }
  },
  "cells": [
    {
      "cell_type": "code",
      "metadata": {
        "colab": {
          "base_uri": "https://localhost:8080/"
        },
        "id": "ZCY4G-U9yuTy",
        "outputId": "feee9a4e-a52e-41d5-a3ab-fbff61d2f117"
      },
      "source": [
        "from google.colab import drive\n",
        "import os\n",
        "if not os.path.exists('/content/drive'): drive.mount('/content/drive')\n",
        "% cd /content/drive/MyDrive/Dissertation/ad945-diss-project/"
      ],
      "execution_count": 1,
      "outputs": [
        {
          "output_type": "stream",
          "text": [
            "Mounted at /content/drive\n",
            "/content/drive/MyDrive/Dissertation/ad945-diss-project\n"
          ],
          "name": "stdout"
        }
      ]
    },
    {
      "cell_type": "code",
      "metadata": {
        "colab": {
          "base_uri": "https://localhost:8080/"
        },
        "id": "USVrib_ZzBTx",
        "outputId": "03f01f34-c5cd-45fe-cd10-801b80a1dc66"
      },
      "source": [
        "!pip install sacrebleu\n",
        "!pip install sentencepiece\n",
        "!pip install py-rouge"
      ],
      "execution_count": 5,
      "outputs": [
        {
          "output_type": "stream",
          "text": [
            "Requirement already satisfied: sacrebleu in /usr/local/lib/python3.7/dist-packages (1.5.1)\n",
            "Requirement already satisfied: portalocker==2.0.0 in /usr/local/lib/python3.7/dist-packages (from sacrebleu) (2.0.0)\n",
            "Requirement already satisfied: sentencepiece in /usr/local/lib/python3.7/dist-packages (0.1.95)\n",
            "Collecting py-rouge\n",
            "\u001b[?25l  Downloading https://files.pythonhosted.org/packages/9c/1d/0bdbaf559fb7afe32308ebc84a2028600988212d7eb7fb9f69c4e829e4a0/py_rouge-1.1-py3-none-any.whl (56kB)\n",
            "\u001b[K     |████████████████████████████████| 61kB 2.8MB/s \n",
            "\u001b[?25hInstalling collected packages: py-rouge\n",
            "Successfully installed py-rouge-1.1\n"
          ],
          "name": "stdout"
        }
      ]
    },
    {
      "cell_type": "code",
      "metadata": {
        "id": "98DRZAsLzDzf"
      },
      "source": [
        "import torch\n",
        "\n",
        "import time\n",
        "import numpy as np\n",
        "import pickle\n",
        "\n",
        "import sentencepiece as spm\n",
        "from tqdm.notebook import tnrange\n",
        "import sacrebleu\n",
        "from datetime import datetime\n",
        "\n",
        "from src.opt import Opt\n",
        "from src.transformer_layers import Transformer\n",
        "from src.utils import *\n",
        "from src.save_load import *\n",
        "from src.training import *"
      ],
      "execution_count": 7,
      "outputs": []
    },
    {
      "cell_type": "code",
      "metadata": {
        "id": "0S3JUDfbzhUn"
      },
      "source": [
        "opt = Opt()"
      ],
      "execution_count": 8,
      "outputs": []
    },
    {
      "cell_type": "code",
      "metadata": {
        "id": "4yBjmBEw21Fs"
      },
      "source": [
        "if not os.path.exists(f\"{opt.model_file}{opt.src_lang}.model\"):\n",
        "    move(opt)"
      ],
      "execution_count": null,
      "outputs": []
    },
    {
      "cell_type": "code",
      "metadata": {
        "id": "ax2Hgs0D2xvU"
      },
      "source": [
        "if not os.path.exists(f\"{opt.model_file}{opt.src_lang}.model\"):\n",
        "    print('building src processor') \n",
        "    ! spm_train --input={opt.input_file}{opt.src_lang} \\\n",
        "    --model_prefix={opt.model_file}{opt.src_lang}.model \\\n",
        "    --vocab_size=8000 --character_coverage=1.0 \\\n",
        "    --model_type=bpe --pad_id=3 --bos_id=-1 \\\n",
        "    --eos_id=-1\n",
        "\n",
        "    \n",
        "if not os.path.exists(f\"{opt.model_file}{opt.trg_lang}.model\"):\n",
        "    print('building trg processor')\n",
        "    ! spm_train --input={opt.input_file}{opt.trg_lang} \\\n",
        "    --model_prefix={opt.model_file}{opt.trg_lang}.model \\\n",
        "    --vocab_size=8000 --character_coverage=1.0 \\\n",
        "    --model_type=bpe --pad_id=3"
      ],
      "execution_count": null,
      "outputs": []
    },
    {
      "cell_type": "code",
      "metadata": {
        "id": "XvE0X6Aaz6f6"
      },
      "source": [
        "create_fields(opt)\n",
        "create_dataset(opt)"
      ],
      "execution_count": null,
      "outputs": []
    },
    {
      "cell_type": "code",
      "metadata": {
        "id": "b9Y4pLrr3GJY"
      },
      "source": [
        "opt.train_len = sum((len(opt.src_bins[v])*v) // opt.tokensize + 1 for v in opt.bins) \n",
        "print(opt.train_len)\n",
        "print(sum(len(opt.src_bins[v]) for v in opt.bins))"
      ],
      "execution_count": null,
      "outputs": []
    },
    {
      "cell_type": "code",
      "metadata": {
        "id": "UcuwzXDX0EkO"
      },
      "source": [
        "load_dev_dataset(opt)"
      ],
      "execution_count": null,
      "outputs": []
    },
    {
      "cell_type": "code",
      "metadata": {
        "id": "tzfx1oVQ0Ilb"
      },
      "source": [
        "model, optim = load_model(opt)"
      ],
      "execution_count": null,
      "outputs": []
    },
    {
      "cell_type": "code",
      "metadata": {
        "id": "zNWjpKWE0dkn"
      },
      "source": [
        "try:\n",
        "    opt.k = 10\n",
        "    opt.print_every = 200 \n",
        "    opt.save_every = 5000\n",
        "    opt.epochs = 10\n",
        "    opt.warmup_steps = 16000\n",
        "    opt.keep_training = True\n",
        "    train_model(model, opt)\n",
        "\n",
        "except Exception as e:\n",
        "    log.print(e, type=Log.ERROR)\n",
        "    log.flush()\n",
        "    raise e"
      ],
      "execution_count": null,
      "outputs": []
    }
  ]
}